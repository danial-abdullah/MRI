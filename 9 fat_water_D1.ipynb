{
 "cells": [
  {
   "cell_type": "markdown",
   "metadata": {
    "toc": true
   },
   "source": [
    "<h1>Table of Contents<span class=\"tocSkip\"></span></h1>\n",
    "<div class=\"toc\"><ul class=\"toc-item\"><li><span><a href=\"#Phantoms\" data-toc-modified-id=\"Phantoms-1\"><span class=\"toc-item-num\">1&nbsp;&nbsp;</span>Phantoms</a></span><ul class=\"toc-item\"><li><span><a href=\"#Variable-Definitions\" data-toc-modified-id=\"Variable-Definitions-1.1\"><span class=\"toc-item-num\">1.1&nbsp;&nbsp;</span>Variable Definitions</a></span></li><li><span><a href=\"#Water-Phantom\" data-toc-modified-id=\"Water-Phantom-1.2\"><span class=\"toc-item-num\">1.2&nbsp;&nbsp;</span>Water Phantom</a></span></li><li><span><a href=\"#Fat-Phantom\" data-toc-modified-id=\"Fat-Phantom-1.3\"><span class=\"toc-item-num\">1.3&nbsp;&nbsp;</span>Fat-Phantom</a></span></li></ul></li><li><span><a href=\"#Two-Point-DIXON\" data-toc-modified-id=\"Two-Point-DIXON-2\"><span class=\"toc-item-num\">2&nbsp;&nbsp;</span>Two Point DIXON</a></span><ul class=\"toc-item\"><li><span><a href=\"#Equation-of-2-Images\" data-toc-modified-id=\"Equation-of-2-Images-2.1\"><span class=\"toc-item-num\">2.1&nbsp;&nbsp;</span>Equation of 2 Images</a></span></li><li><span><a href=\"#Fat-Water-Phantom-Images\" data-toc-modified-id=\"Fat-Water-Phantom-Images-2.2\"><span class=\"toc-item-num\">2.2&nbsp;&nbsp;</span>Fat-Water Phantom Images</a></span></li><li><span><a href=\"#Applying-Equation-5-&amp;-6-to-obtain-$m_w$-&amp;-$m_f$\" data-toc-modified-id=\"Applying-Equation-5-&amp;-6-to-obtain-$m_w$-&amp;-$m_f$-2.3\"><span class=\"toc-item-num\">2.3&nbsp;&nbsp;</span>Applying Equation 5 &amp; 6 to obtain $m_w$ &amp; $m_f$</a></span></li></ul></li><li><span><a href=\"#Three-Point-DIXON-Methods\" data-toc-modified-id=\"Three-Point-DIXON-Methods-3\"><span class=\"toc-item-num\">3&nbsp;&nbsp;</span>Three Point DIXON Methods</a></span><ul class=\"toc-item\"><li><span><a href=\"#Estimate-of-$\\hat{m}_w$-for-$\\phi$-=--$\\pi$\" data-toc-modified-id=\"Estimate-of-$\\hat{m}_w$-for-$\\phi$-=--$\\pi$-3.1\"><span class=\"toc-item-num\">3.1&nbsp;&nbsp;</span>Estimate of $\\hat{m}_w$ for $\\phi$ =  $\\pi$</a></span></li><li><span><a href=\"#Estimate-of-$\\hat{m}_w$-with-a-known-off-Resonance-frequency,-$\\omega$\" data-toc-modified-id=\"Estimate-of-$\\hat{m}_w$-with-a-known-off-Resonance-frequency,-$\\omega$-3.2\"><span class=\"toc-item-num\">3.2&nbsp;&nbsp;</span>Estimate of $\\hat{m}_w$ with a known off Resonance frequency, $\\omega$</a></span></li></ul></li><li><span><a href=\"#Two-Point-Dixon,-Revisited\" data-toc-modified-id=\"Two-Point-Dixon,-Revisited-4\"><span class=\"toc-item-num\">4&nbsp;&nbsp;</span>Two Point Dixon, Revisited</a></span></li></ul></div>"
   ]
  },
  {
   "cell_type": "code",
   "execution_count": 1,
   "metadata": {},
   "outputs": [],
   "source": [
    "import matplotlib.pylab as plt\n",
    "import numpy as np\n",
    "import math\n",
    "import plot\n",
    "from jupyterthemes import jtplot\n",
    "jtplot.style(theme='onedork')\n",
    "jtplot.style(ticks=True, grid=False, figsize=(6, 4.5))\n",
    "# Modules\n",
    "from mpl_toolkits.axes_grid1 import ImageGrid\n",
    "import ipywidgets as widgets\n",
    "from ipywidgets import interact, interactive_output, HBox\n",
    "from mpl_toolkits.axes_grid1 import make_axes_locatable"
   ]
  },
  {
   "cell_type": "markdown",
   "metadata": {},
   "source": [
    "# Fat-Water Relaxation"
   ]
  },
  {
   "cell_type": "markdown",
   "metadata": {},
   "source": [
    "## Phantoms"
   ]
  },
  {
   "cell_type": "markdown",
   "metadata": {},
   "source": [
    "### Variable Definitions"
   ]
  },
  {
   "cell_type": "markdown",
   "metadata": {},
   "source": [
    "* sig = signal\n",
    "* tn = echo time\n",
    "* m_w = amplitude of water\n",
    "* m_w = amplitude of fat signal\n",
    "* t2_star = transverse relaxation time\n",
    "* f_h = magnetic field inhomogneity\n",
    "* del_f = frequency shift ith fat peak wrt water peak, off resonance frequency\n",
    "* alpha_i = relative fat signal amplitude\n",
    "* gamma_water = frequency of precession of water\n",
    "* gamma_fat = frequency of precession of fat\n",
    "* B = magnetic field"
   ]
  },
  {
   "cell_type": "markdown",
   "metadata": {},
   "source": [
    "### Water Phantom"
   ]
  },
  {
   "cell_type": "code",
   "execution_count": 2,
   "metadata": {},
   "outputs": [],
   "source": [
    "\n",
    "g_w = np.array([[1,1,1,0],\n",
    "                  [1,1,0,0],\n",
    "                  [1,1,0,0],\n",
    "                  [1,0,0,0]])\n",
    "perc_w = np.array([[1,0.75,0.25,0],[1,0.75,0.25,0],[1,0.75,0.25,0],[1,0.75,0.25,0]])\n",
    "m_w = perc_w"
   ]
  },
  {
   "cell_type": "markdown",
   "metadata": {},
   "source": [
    "### Fat-Phantom"
   ]
  },
  {
   "cell_type": "code",
   "execution_count": 3,
   "metadata": {},
   "outputs": [],
   "source": [
    "g_f = np.array([[0,0,0,1],\n",
    "                [0,0,1,1],\n",
    "                [0,0,1,1],\n",
    "                [0,1,1,1]])\n",
    "perc_f = np.array([[0,0.25,0.75,1],[0,0.25,0.75,1],[0,0.25,0.75,1],[0,0.25,0.75,1]])\n",
    "m_f = perc_f"
   ]
  },
  {
   "cell_type": "code",
   "execution_count": null,
   "metadata": {},
   "outputs": [],
   "source": []
  },
  {
   "cell_type": "code",
   "execution_count": 4,
   "metadata": {},
   "outputs": [
    {
     "data": {
      "text/plain": [
       "<matplotlib.colorbar.Colorbar at 0x1a1c2486d0>"
      ]
     },
     "execution_count": 4,
     "metadata": {},
     "output_type": "execute_result"
    },
    {
     "data": {
      "image/png": "[encoded data removed]",
      "text/plain": [
       "<Figure size 720x720 with 4 Axes>"
      ]
     },
     "metadata": {
      "needs_background": "dark"
     },
     "output_type": "display_data"
    }
   ],
   "source": [
    "plt.figure(figsize=(10,10))\n",
    "\n",
    "plt.subplot(121)\n",
    "plt.imshow(np.abs(m_w))\n",
    "plt.title('Water Phantom')\n",
    "plt.colorbar(orientation='horizontal')\n",
    "\n",
    "plt.subplot(122)\n",
    "plt.imshow(np.abs(m_f))\n",
    "plt.title('Fat Phantom')\n",
    "plt.colorbar(orientation='horizontal')"
   ]
  },
  {
   "cell_type": "markdown",
   "metadata": {},
   "source": [
    "## Two Point DIXON"
   ]
  },
  {
   "cell_type": "markdown",
   "metadata": {},
   "source": [
    "### Equation of 2 Images"
   ]
  },
  {
   "cell_type": "markdown",
   "metadata": {},
   "source": [
    "The simplest approach uses only two images.\n",
    "The basic assumption is that there are only two\n",
    "components in the image, water and fat. If $m_w$ is\n",
    "the image of the water component, and $m_f$ is the\n",
    "image of the fat component, the combined image\n",
    "at an echo time $T_E,i$ is\n",
    "\n",
    "\\begin{equation*}\n",
    "m_i   = m_w + e^{-i\\omega_fT_{E,i}}m_f\n",
    "\\tag{1}\n",
    "\\end{equation*}\n",
    "\n",
    "where we have assumed, for convenience, that we\n",
    "are exactly on the water resonance, so only the\n",
    "lipid component precesses at $\\omega_f$ .We choose $T_E,i$ so that\n",
    "\n",
    "\\begin{equation*}\n",
    "\\omega_fT_{E,i}= {0,\\pi,mod (2\\pi)}\n",
    "\\tag{2}\n",
    "\\end{equation*}"
   ]
  },
  {
   "cell_type": "markdown",
   "metadata": {},
   "source": [
    "The two imgaes that result are\n",
    "\n",
    "$$\n",
    "\\begin{align}\n",
    "m_1   = m_w + m_f\n",
    "\\tag{3} \\\\\n",
    "m_2   = m_w - m_f\n",
    "\\tag{4}\n",
    "\\end{align}\n",
    "$$ \n",
    "\n",
    "We can then combine these to make images that contain only water, or only fat\n",
    "\n",
    "$$\n",
    "\\begin{align}\n",
    "m_w   = \\frac12[m_1 + m_2]\n",
    "\\tag{5} \\\\\n",
    "m_f   = \\frac12[m_1 - m_2]\n",
    "\\tag{6}\n",
    "\\end{align}\n",
    "$$"
   ]
  },
  {
   "cell_type": "markdown",
   "metadata": {},
   "source": [
    "### Fat-Water Phantom Images"
   ]
  },
  {
   "cell_type": "code",
   "execution_count": 5,
   "metadata": {},
   "outputs": [],
   "source": [
    "m1 = m_w + m_f\n",
    "m2 = m_w - m_f"
   ]
  },
  {
   "cell_type": "code",
   "execution_count": 6,
   "metadata": {},
   "outputs": [
    {
     "data": {
      "text/plain": [
       "<matplotlib.colorbar.Colorbar at 0x107ca8a50>"
      ]
     },
     "execution_count": 6,
     "metadata": {},
     "output_type": "execute_result"
    },
    {
     "data": {
      "image/png": "[encoded data removed]",
      "text/plain": [
       "<Figure size 720x720 with 4 Axes>"
      ]
     },
     "metadata": {
      "needs_background": "dark"
     },
     "output_type": "display_data"
    }
   ],
   "source": [
    "plt.figure(figsize=(10,10))\n",
    "\n",
    "plt.subplot(121)\n",
    "plt.imshow(np.abs(m1))\n",
    "plt.title('Image of m1')\n",
    "plt.colorbar(orientation='horizontal')\n",
    "\n",
    "plt.subplot(122)\n",
    "plt.imshow(np.abs(m2))\n",
    "plt.title('Image of m2')\n",
    "plt.colorbar(orientation='horizontal')"
   ]
  },
  {
   "cell_type": "markdown",
   "metadata": {},
   "source": [
    "### Applying Equation 5 & 6 to obtain $m_w$ & $m_f$"
   ]
  },
  {
   "cell_type": "code",
   "execution_count": 7,
   "metadata": {},
   "outputs": [],
   "source": [
    "m_w_5 = .5*(m1 + m2)\n",
    "m_f_6 = .5*(m1 - m2)"
   ]
  },
  {
   "cell_type": "code",
   "execution_count": 8,
   "metadata": {},
   "outputs": [
    {
     "data": {
      "text/plain": [
       "<matplotlib.colorbar.Colorbar at 0x1a1c957810>"
      ]
     },
     "execution_count": 8,
     "metadata": {},
     "output_type": "execute_result"
    },
    {
     "data": {
      "image/png": "[encoded data removed]",
      "text/plain": [
       "<Figure size 720x720 with 4 Axes>"
      ]
     },
     "metadata": {
      "needs_background": "dark"
     },
     "output_type": "display_data"
    }
   ],
   "source": [
    "plt.figure(figsize=(10,10))\n",
    "plt.subplot(121)\n",
    "plt.imshow(np.abs(m_w_5))\n",
    "plt.title('Image of Water ')\n",
    "plt.colorbar(orientation='horizontal')\n",
    "\n",
    "plt.subplot(122)\n",
    "plt.imshow(np.abs(m_w))\n",
    "plt.title('DIXON Equation 5, Image of Water')\n",
    "plt.colorbar(orientation='horizontal')"
   ]
  },
  {
   "cell_type": "code",
   "execution_count": 9,
   "metadata": {},
   "outputs": [
    {
     "name": "stdout",
     "output_type": "stream",
     "text": [
      "[[1.   0.75 0.25 0.  ]\n",
      " [1.   0.75 0.25 0.  ]\n",
      " [1.   0.75 0.25 0.  ]\n",
      " [1.   0.75 0.25 0.  ]]\n"
     ]
    }
   ],
   "source": [
    "print(np.abs(m_w_5))"
   ]
  },
  {
   "cell_type": "code",
   "execution_count": 10,
   "metadata": {},
   "outputs": [
    {
     "name": "stdout",
     "output_type": "stream",
     "text": [
      "[[1.   0.75 0.25 0.  ]\n",
      " [1.   0.75 0.25 0.  ]\n",
      " [1.   0.75 0.25 0.  ]\n",
      " [1.   0.75 0.25 0.  ]]\n"
     ]
    }
   ],
   "source": [
    "print(np.abs(m_w))"
   ]
  },
  {
   "cell_type": "code",
   "execution_count": 11,
   "metadata": {
    "scrolled": false
   },
   "outputs": [
    {
     "data": {
      "text/plain": [
       "<matplotlib.colorbar.Colorbar at 0x1a1c558710>"
      ]
     },
     "execution_count": 11,
     "metadata": {},
     "output_type": "execute_result"
    },
    {
     "data": {
      "image/png": "[encoded data removed]",
      "text/plain": [
       "<Figure size 720x720 with 4 Axes>"
      ]
     },
     "metadata": {
      "needs_background": "dark"
     },
     "output_type": "display_data"
    }
   ],
   "source": [
    "plt.figure(figsize=(10,10))\n",
    "plt.subplot(121)\n",
    "plt.imshow(np.abs(m_f_6))\n",
    "plt.title('Image of Fat')\n",
    "plt.colorbar(orientation='horizontal')\n",
    "\n",
    "plt.subplot(122)\n",
    "plt.imshow(np.abs(m_f))\n",
    "plt.title('DIXON Equation 6, Image of Fat')\n",
    "plt.colorbar(orientation='horizontal')"
   ]
  },
  {
   "cell_type": "code",
   "execution_count": 12,
   "metadata": {},
   "outputs": [
    {
     "name": "stdout",
     "output_type": "stream",
     "text": [
      "[[0.   0.25 0.75 1.  ]\n",
      " [0.   0.25 0.75 1.  ]\n",
      " [0.   0.25 0.75 1.  ]\n",
      " [0.   0.25 0.75 1.  ]]\n"
     ]
    }
   ],
   "source": [
    "print(np.abs(m_f_6))"
   ]
  },
  {
   "cell_type": "code",
   "execution_count": 13,
   "metadata": {},
   "outputs": [
    {
     "name": "stdout",
     "output_type": "stream",
     "text": [
      "[[0.   0.25 0.75 1.  ]\n",
      " [0.   0.25 0.75 1.  ]\n",
      " [0.   0.25 0.75 1.  ]\n",
      " [0.   0.25 0.75 1.  ]]\n"
     ]
    }
   ],
   "source": [
    "print(np.abs(m_f))"
   ]
  },
  {
   "cell_type": "markdown",
   "metadata": {},
   "source": [
    "The problem with this approach is that there are\n",
    "other factors that confound the decomposition.\n",
    "The major factor is the off-resonance frequency\n",
    "shift $w$ that produces phase errors. Another factor\n",
    "is the $T_2$ decay of signal at increasing echo times.\n",
    "For spin echoes, the decay may be kept constant by\n",
    "changing the echo time by shifting the refocusing\n",
    "pulse. In gradient-recalled acquisitions, $T_2$ decay\n",
    "will be a concern.\n",
    "\n",
    "Of these two factors, the problem of the offresonance\n",
    "frequency $w$ is by far the most important.\n",
    "The estimation and correction for $T{_2}{^*}$\n",
    "degrades the separation between fat and water\n",
    "slightly, but is of secondary concern. We will ignore\n",
    "this effect here,primary concern here is correcting for the effect of\n",
    "off-resonance frequency."
   ]
  },
  {
   "cell_type": "markdown",
   "metadata": {},
   "source": [
    "The two images that result are\n",
    "\n",
    "$$\n",
    "\\begin{align}\n",
    "m_1   = (m_w + m_f)e^{i\\phi_0}\n",
    "\\tag{7} \\\\\n",
    "m_2   = (m_w - m_f)e^{i(\\phi_0+\\phi)}\n",
    "\\tag{8}\n",
    "\\end{align}\n",
    "$$\n",
    "\n",
    "where\n",
    "\n",
    "\\begin{equation*}\n",
    "\\phi_0 = -\\omega{T_{E,1}}\n",
    "\\tag{9}\n",
    "\\end{equation*}\n",
    "\n",
    "and the phase due to the precession between two echoes is\n",
    "\n",
    "\\begin{equation*}\n",
    "\\phi = -\\omega({T_{E,2} - T_{E,1}})\n",
    "\\tag{9}\n",
    "\\end{equation*}"
   ]
  },
  {
   "cell_type": "markdown",
   "metadata": {},
   "source": [
    "The initial phase $\\phi_0$ can be computed from $m_1$ and\n",
    "eliminated from both terms, so we neglect it. The estimate \n",
    "$\\hat{m}_w$ is then\n",
    "\n",
    "$$\n",
    "\\begin{align}\n",
    "\\hat{m}_w   = \\frac12(m_1 + m_2)\n",
    "\\tag{10}\\\\\n",
    "            =\\frac12[m_w(1 + e^{i\\phi}) \n",
    "\\tag{11}\\\\\n",
    "                + m_f(1 - e^{i\\phi})]\n",
    "\\tag{12}\\\\\n",
    "\\end{align}\n",
    "$$"
   ]
  },
  {
   "cell_type": "code",
   "execution_count": 14,
   "metadata": {},
   "outputs": [],
   "source": [
    "te1 = 2.6\n",
    "w = 2*np.pi*400*4.7\n",
    "phi_not = w*te1"
   ]
  },
  {
   "cell_type": "code",
   "execution_count": 15,
   "metadata": {},
   "outputs": [],
   "source": [
    "te2 = 3.0\n",
    "phi = w*(te2-te1)"
   ]
  },
  {
   "cell_type": "code",
   "execution_count": 16,
   "metadata": {},
   "outputs": [],
   "source": [
    "m1_7 = (m_w + m_f)*np.exp(1j*(phi_not))\n",
    "m2_8 = (m_w - m_f)*np.exp(1j*(phi_not+phi))\n",
    "m_hat_w_10 = 0.5*(m1_7 + m2_8)\n",
    "\n",
    "e_11 = m_w*(1+np.exp(1j*phi))\n",
    "e_12 = m_f*(1-np.exp(1j*phi))\n",
    "m_hat_w_11_12 = 0.5*(e_11+e_12)"
   ]
  },
  {
   "cell_type": "code",
   "execution_count": 17,
   "metadata": {},
   "outputs": [
    {
     "data": {
      "text/plain": [
       "<matplotlib.colorbar.Colorbar at 0x1a1cf4bd50>"
      ]
     },
     "execution_count": 17,
     "metadata": {},
     "output_type": "execute_result"
    },
    {
     "data": {
      "image/png": "[encoded data removed]",
      "text/plain": [
       "<Figure size 720x720 with 4 Axes>"
      ]
     },
     "metadata": {
      "needs_background": "dark"
     },
     "output_type": "display_data"
    }
   ],
   "source": [
    "plt.figure(figsize=(10,10))\n",
    "plt.subplot(121)\n",
    "plt.imshow(np.abs(m_hat_w_10))\n",
    "plt.title('Image Estimate of Water, Eqn 10')\n",
    "plt.colorbar(orientation='horizontal')\n",
    "\n",
    "plt.subplot(122)\n",
    "plt.imshow(np.abs(m_hat_w_11_12))\n",
    "plt.title('Image Estimate of Water, Eqn 11 & 12')\n",
    "plt.colorbar(orientation='horizontal')"
   ]
  },
  {
   "cell_type": "markdown",
   "metadata": {},
   "source": [
    "## Three Point DIXON Methods"
   ]
  },
  {
   "cell_type": "markdown",
   "metadata": {},
   "source": [
    "One alternative is to add an additional measurement\n",
    "to allow the off-resonance frequency $w$ to\n",
    "be estimated. The original proposal [2] was for\n",
    "spin-echo acquisitions, and used measurements at\n",
    "$\\pi$, 0, and $2\\pi$ The echoes were symmetrically distributed\n",
    "about the spin echo."
   ]
  },
  {
   "cell_type": "markdown",
   "metadata": {},
   "source": [
    "A better choice that also works for gradient echoes\n",
    "is to pick $T_{E,i}$'s such that:\n",
    "\n",
    "\\begin{equation*}\n",
    "\\omega_fT_{E,i}= {0,\\pi,2\\pi}\n",
    "\\tag{13}\n",
    "\\end{equation*}\n"
   ]
  },
  {
   "cell_type": "markdown",
   "metadata": {},
   "source": [
    "Neglecting $\\phi_0$ as before, the three images can be written\n",
    "\n",
    "$$\n",
    "\\begin{align}\n",
    "m_1   = (m_w + m_f)\n",
    "\\tag{14} \\\\\n",
    "m_2   = (m_w - m_f)e^{i\\phi}\n",
    "\\tag{15} \\\\\n",
    "m_3   = (m_w + m_f)e^{i2\\phi}\n",
    "\\tag{16}\n",
    "\\end{align}\n",
    "$$\n",
    "\n",
    "from images $m_1$ and $m_3$ we can estimate\n",
    "\n",
    "$$\n",
    "\\begin{equation*}\n",
    "2\\hat{\\phi} = \\angle m_1^*m_3\n",
    "\\tag{17}\n",
    "\\end{equation*}\n",
    "$$\n",
    "\n",
    "We can then phase correct $m_2$, and combine $m_1$ to compute $\\hat{m}_w$,\n",
    "\n",
    "$$\n",
    "\\begin{align}\n",
    "\\hat{m}_w   = \\frac12(m_1 + m_2e^{-i\\hat{\\phi}})\n",
    "\\tag{18}\\\\\n",
    "            =\\frac12((m_w + m_f) \n",
    "\\tag{19}\\\\\n",
    "            + (m_w - m_f)e^{i\\phi}e^{-i\\hat{\\phi}})\n",
    "\\tag{20}\\\\\n",
    "            = \\frac12((m_w(1 + e^{i(\\phi-\\hat{\\phi})})\n",
    "\\tag{21}\\\\\n",
    "            + m_f(1 - e^{i(\\phi-\\hat{\\phi})}))\n",
    "\\tag{22}\\\\\n",
    "\\end{align}\n",
    "$$"
   ]
  },
  {
   "cell_type": "markdown",
   "metadata": {},
   "source": [
    "### Estimate of $\\hat{m}_w$ for $\\phi$ =  $\\pi$"
   ]
  },
  {
   "cell_type": "code",
   "execution_count": 18,
   "metadata": {},
   "outputs": [],
   "source": [
    "def plot_fig(mw_est1,mw_est2,mw_est3,r,c):\n",
    "    plt.figure(figsize=(r,c))\n",
    "    \n",
    "    plt.subplot(131)\n",
    "    plt.title('Water Image Estimate, Eqn 18 ')\n",
    "    plt.imshow(np.abs(mw_est1))\n",
    "    #plt.subplots_adjust(hspace=0)\n",
    "    plt.subplots_adjust(wspace=0.2)\n",
    "\n",
    "    plt.subplot(132)\n",
    "    plt.title('Water Image Estimate, Eqn 19 ')\n",
    "    plt.imshow(np.abs(mw_est2))\n",
    "    #plt.subplots_adjust(hspace=0.1)\n",
    "    plt.subplots_adjust(wspace=0.2)\n",
    "\n",
    "    plt.subplot(133)\n",
    "    plt.title('Water Image Estimate, Eqn 21 ')\n",
    "    plt.imshow(np.abs(mw_est3))\n",
    "    #plt.subplots_adjust(hspace=0.1)\n",
    "    plt.subplots_adjust(wspace=0.2)"
   ]
  },
  {
   "cell_type": "code",
   "execution_count": 19,
   "metadata": {},
   "outputs": [],
   "source": [
    "m_w = np.array([[1,0.75,0.25,0],[1,0.75,0.25,0],[1,0.75,0.25,0],[1,0.75,0.25,0]])\n",
    "m_f = np.array([[0,0.25,0.75,1],[0,0.25,0.75,1],[0,0.25,0.75,1],[0,0.25,0.75,1]])"
   ]
  },
  {
   "cell_type": "code",
   "execution_count": 20,
   "metadata": {},
   "outputs": [],
   "source": [
    "te1 = 2.6\n",
    "w = 2*np.pi*400*4.7\n",
    "phi_not = w*te1"
   ]
  },
  {
   "cell_type": "code",
   "execution_count": 21,
   "metadata": {},
   "outputs": [
    {
     "data": {
      "text/plain": [
       "2.6002659574468088"
      ]
     },
     "execution_count": 21,
     "metadata": {},
     "output_type": "execute_result"
    }
   ],
   "source": [
    "te2_pi = (phi_not+np.pi)/w\n",
    "te2_pi"
   ]
  },
  {
   "cell_type": "code",
   "execution_count": 22,
   "metadata": {},
   "outputs": [],
   "source": [
    "phi_pi = w*(te2-te1)"
   ]
  },
  {
   "cell_type": "code",
   "execution_count": 23,
   "metadata": {},
   "outputs": [],
   "source": [
    "m1_14 = (m_w + m_f)\n",
    "m2_15 = (m_w - m_f)*np.exp(1j*phi_pi)\n",
    "m3_16 = (m_w + m_f)*np.exp(1j*2*phi)\n",
    "\n",
    "phi_hat = 0.5*np.angle(np.conj(m1_14)*m3_16)\n",
    "\n",
    "m_hat_w_18_pi = 0.5*(m1_14 + m2_15*np.exp(-1j*phi_hat))\n",
    "m_hat_w_19_pi = 0.5*((m_w + m_f) + (m_w - m_f)*np.exp(1j*phi_pi)*np.exp(1j*phi_hat))\n",
    "m_hat_w_21_pi = 0.5*(m_w*(1 + np.exp(1j*(phi_pi+phi_hat))) + m_f*(1 - np.exp(1j*(phi_pi+phi_hat))))"
   ]
  },
  {
   "cell_type": "code",
   "execution_count": 24,
   "metadata": {},
   "outputs": [
    {
     "data": {
      "image/png": "[encoded data removed]",
      "text/plain": [
       "<Figure size 1080x1080 with 3 Axes>"
      ]
     },
     "metadata": {
      "needs_background": "dark"
     },
     "output_type": "display_data"
    }
   ],
   "source": [
    "plot_fig(m_hat_w_18_pi,m_hat_w_19_pi,m_hat_w_21_pi,15,15)"
   ]
  },
  {
   "cell_type": "markdown",
   "metadata": {},
   "source": [
    "### Estimate of $\\hat{m}_w$ with a known off Resonance frequency, $\\omega$"
   ]
  },
  {
   "cell_type": "code",
   "execution_count": 25,
   "metadata": {},
   "outputs": [],
   "source": [
    "te1 = 2.6\n",
    "w = 2*np.pi*400*4.7\n",
    "phi = w*te1"
   ]
  },
  {
   "cell_type": "code",
   "execution_count": 26,
   "metadata": {},
   "outputs": [
    {
     "data": {
      "text/plain": [
       "2.6005319148936175"
      ]
     },
     "execution_count": 26,
     "metadata": {},
     "output_type": "execute_result"
    }
   ],
   "source": [
    "te2 = (phi_not+2*np.pi)/w\n",
    "te2"
   ]
  },
  {
   "cell_type": "code",
   "execution_count": 27,
   "metadata": {},
   "outputs": [],
   "source": [
    "phi = w*(te2-te1)"
   ]
  },
  {
   "cell_type": "code",
   "execution_count": 28,
   "metadata": {
    "code_folding": []
   },
   "outputs": [],
   "source": [
    "m1_14 = (m_w + m_f)\n",
    "m2_15 = (m_w - m_f)*np.exp(1j*phi)\n",
    "m3_16 = (m_w + m_f)*np.exp(1j*2*phi)\n",
    "\n",
    "phi_hat = 0.5*np.angle(np.conj(m1_14)*m3_16)\n",
    "\n",
    "m_hat_w_18 = 0.5*(m1_14 + m2_15*np.exp(-1j*phi_hat))\n",
    "m_hat_w_19 = 0.5*((m_w + m_f) + (m_w - m_f)*np.exp(1j*phi)*np.exp(1j*phi_hat))\n",
    "m_hat_w_21 = 0.5*(m_w*(1 + np.exp(1j*(phi+phi_hat))) + m_f*(1 - np.exp(1j*(phi+phi_hat))))"
   ]
  },
  {
   "cell_type": "code",
   "execution_count": 29,
   "metadata": {},
   "outputs": [
    {
     "data": {
      "image/png": "[encoded data removed]",
      "text/plain": [
       "<Figure size 1080x1080 with 3 Axes>"
      ]
     },
     "metadata": {
      "needs_background": "dark"
     },
     "output_type": "display_data"
    }
   ],
   "source": [
    "plot_fig(m_hat_w_18,m_hat_w_19,m_hat_w_21,15,15)"
   ]
  },
  {
   "cell_type": "markdown",
   "metadata": {},
   "source": [
    "A similar expression can be written for $m_f$ . If\n",
    "$\\phi$ = $\\hat{\\phi}$ the reconstruction is correct. However there\n",
    "is a problem if the phase of $\\phi$ exceeds 2$\\pi$."
   ]
  },
  {
   "cell_type": "markdown",
   "metadata": {},
   "source": [
    "The source of the problem is that the term 2$\\hat{\\phi}$ is\n",
    "itself phase wrapped at 2$\\pi$. This means that that\n",
    "$\\hat{\\phi}$ itself wraps at $\\pi$. After the first wrap of 2$\\hat{\\phi}$.\n",
    "\n",
    "\\begin{equation*}\n",
    "\\phi- \\hat{\\phi} = \\pi\n",
    "\\tag{23}\n",
    "\\end{equation*}\n",
    "\n"
   ]
  },
  {
   "cell_type": "markdown",
   "metadata": {},
   "source": [
    "If we substitute this in to Eq. 22\n",
    "\n",
    "$$\n",
    "\\begin{align}\n",
    "\\hat{m}_w   = \\frac12(m_w( 1 + e^{i\\pi})\n",
    "\\tag{24}\\\\\n",
    "            + m_f( 1 - e^{i\\pi} ))\n",
    "\\tag{25}\\\\\n",
    "            = \\frac12(m_w( 1 + (-1))  \n",
    "\\tag{26}\\\\\n",
    "            + m_f(1 - (-1))))\n",
    "\\tag{27}\\\\\n",
    "            = m_f!\n",
    "\\tag{28}\\\\\n",
    "\\end{align}\n",
    "$$"
   ]
  },
  {
   "cell_type": "markdown",
   "metadata": {},
   "source": [
    "This means that each time 2$\\hat{\\phi}$ wraps by another 2$\\pi$,\n",
    "water and fat swap. This is an objectionable artifact.\n",
    "Another consequence is that, even if the two\n",
    "do separate properly, you can’t tell which will be\n",
    "the water image. This is easily detectable, but unfortunate,\n",
    "since water is usually the image of interest.\n",
    "Row 2 demonstrates the water/fat switching\n",
    "due to a 2$\\pi$ phase wrap in 2$\\hat{\\phi}$."
   ]
  },
  {
   "cell_type": "markdown",
   "metadata": {},
   "source": [
    "## Two Point Dixon, Revisited"
   ]
  },
  {
   "cell_type": "markdown",
   "metadata": {},
   "source": [
    "The main function of the third measurement $m_3$ in equation 16 is to allow the estimation \n",
    "of 2$\\hat{\\phi}$ by computing \n",
    "\n",
    "$$\n",
    "\\begin{equation*}\n",
    "2\\hat{\\phi} = \\angle m_1^*m_3\n",
    "\\tag{17}\n",
    "\\end{equation*}\n",
    "$$\n",
    "\n",
    "We can also do this with\n",
    "\n",
    "$$\n",
    "\\begin{equation*}\n",
    "2\\hat{\\phi} = \\angle (m_1^*m_2)^2\n",
    "\\tag{29}\n",
    "\\end{equation*}\n",
    "$$\n",
    "\n",
    "This effectively synthesizes the third three-point\n",
    "Dixon measurement from the two-point data set.\n",
    "The reason we need to do this using $m_1m_2$ is that\n",
    "water and fat have opposite polarities, and that \n",
    "would appear in the phase estimate. By squaring\n",
    "the phase difference, water and fat are again in\n",
    "phase, and we can extract the off-resonance component\n",
    "of the phase"
   ]
  },
  {
   "cell_type": "code",
   "execution_count": 30,
   "metadata": {},
   "outputs": [],
   "source": [
    "m1_14 = (m_w + m_f)\n",
    "m2_15 = (m_w - m_f)*np.exp(1j*phi)\n",
    "\n",
    "phi_hat_29 = 0.5*np.angle(np.power((np.conj(m1_14)*m2_15),2))\n",
    "\n",
    "m_hat_w_18_d2 = 0.5*(m1_14 + m2_15*np.exp(-1j*phi_hat_29))\n",
    "m_hat_w_19_d2 = 0.5*((m_w + m_f) + (m_w - m_f)*np.exp(1j*phi)*np.exp(1j*phi_hat_29))\n",
    "m_hat_w_21_d2 = 0.5*(m_w*(1 + np.exp(1j*(phi+phi_hat_29))) + m_f*(1 - np.exp(1j*(phi+phi_hat_29))))"
   ]
  },
  {
   "cell_type": "code",
   "execution_count": 31,
   "metadata": {},
   "outputs": [
    {
     "data": {
      "image/png": "[encoded data removed]",
      "text/plain": [
       "<Figure size 1080x1080 with 3 Axes>"
      ]
     },
     "metadata": {
      "needs_background": "dark"
     },
     "output_type": "display_data"
    }
   ],
   "source": [
    "plot_fig(m_hat_w_18_d2,m_hat_w_19_d2,m_hat_w_21_d2,15,15)"
   ]
  },
  {
   "cell_type": "markdown",
   "metadata": {},
   "source": [
    "While this is a great idea, in\n",
    "practice its use is limited due to the performance\n",
    "at pixels that have a contribution from both water\n",
    "and fat. Since fat shifts in the readout direction\n",
    "in a 2DFT acquisition, this includes pixels on the\n",
    "fat/water boundary. At these points fat and water\n",
    "interfere, resulting in phase anomalies, and separation\n",
    "failures."
   ]
  }
 ],
 "metadata": {
  "kernelspec": {
   "display_name": "Python 3",
   "language": "python",
   "name": "python3"
  },
  "language_info": {
   "codemirror_mode": {
    "name": "ipython",
    "version": 3
   },
   "file_extension": ".py",
   "mimetype": "text/x-python",
   "name": "python",
   "nbconvert_exporter": "python",
   "pygments_lexer": "ipython3",
   "version": "3.7.4"
  },
  "toc": {
   "base_numbering": 1,
   "nav_menu": {},
   "number_sections": true,
   "sideBar": true,
   "skip_h1_title": true,
   "title_cell": "Table of Contents",
   "title_sidebar": "Contents",
   "toc_cell": true,
   "toc_position": {},
   "toc_section_display": true,
   "toc_window_display": true
  }
 },
 "nbformat": 4,
 "nbformat_minor": 2
}
